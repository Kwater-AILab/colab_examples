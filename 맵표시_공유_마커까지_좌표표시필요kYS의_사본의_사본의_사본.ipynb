{
  "nbformat": 4,
  "nbformat_minor": 0,
  "metadata": {
    "colab": {
      "name": "맵표시_공유_마커까지-좌표표시필요kYS의 사본의 사본의 사본",
      "provenance": [],
      "collapsed_sections": []
    },
    "kernelspec": {
      "name": "python3",
      "display_name": "Python 3"
    },
    "language_info": {
      "name": "python"
    }
  },
  "cells": [
    {
      "cell_type": "code",
      "execution_count": 1,
      "metadata": {
        "id": "UZxP_cyMC3KU"
      },
      "outputs": [],
      "source": [
        "import requests\n",
        " \n",
        " \n",
        "def getLatLng(address):\n",
        "    result = \"\"\n",
        " \n",
        "    url = 'https://dapi.kakao.com/v2/local/search/address.json?query=' + address\n",
        "    rest_api_key = 'xxxxxxxxxxxxxxxxxxxxxxxxxx'\n",
        "    header = {'Authorization': 'KakaoAK ' + rest_api_key}\n",
        " \n",
        "    r = requests.get(url, headers=header)\n",
        " \n",
        "    if r.status_code == 200:\n",
        "        result_address = r.json()[\"documents\"][0][\"address\"]\n",
        "        \n",
        "        result = result_address[\"y\"], result_address[\"x\"]\n",
        "    else:\n",
        "        result = \"ERROR[\" + str(r.status_code) + \"]\"\n",
        "    \n",
        "    return result\n",
        " \n",
        " \n",
        "# --------\n",
        "# var mapContainer = document.getElementById('map'), // 지도를 표시할 div \n",
        "#     mapOption = { \n",
        "#         center: new kakao.maps.LatLng(33.450701, 126.570667), // 지도의 중심좌표\n",
        "#         level: 3 // 지도의 확대 레벨\n",
        "#     };\n",
        "\n",
        "# var map = new kakao.maps.Map(mapContainer, mapOption); // 지도를 생성합니다\n",
        "\n",
        "# // 지도에 클릭 이벤트를 등록합니다\n",
        "# // 지도를 클릭하면 마지막 파라미터로 넘어온 함수를 호출합니다\n",
        "# kakao.maps.event.addListener(map, 'click', function(mouseEvent) {        \n",
        "    \n",
        "#     // 클릭한 위도, 경도 정보를 가져옵니다 \n",
        "#     var latlng = mouseEvent.latLng;\n",
        "    \n",
        "#     var message = '클릭한 위치의 위도는 ' + latlng.getLat() + ' 이고, ';\n",
        "#     message += '경도는 ' + latlng.getLng() + ' 입니다';\n",
        "    \n",
        "#     var resultDiv = document.getElementById('result'); \n",
        "#     resultDiv.innerHTML = message;\n",
        "    \n",
        "# });\n",
        "# -------\n",
        "\n",
        "\n",
        "def getKakaoMapHtml(address_latlng):\n",
        "    javascript_key = \"xxxxxxxxxxxxxxxxxxxxxxx\"\n",
        " \n",
        "    result = \"\"\n",
        "    result = result + \"<div id='map' style='width:300px;height:200px;display:inline-block;'></div>\" + \"\\n\"\n",
        "    result = result + \"<script type='text/javascript' src='//dapi.kakao.com/v2/maps/sdk.js?appkey=\" + javascript_key + \"'></script>\" + \"\\n\"\n",
        "    result = result + \"<script>\" + \"\\n\"\n",
        "    result = result + \"    var container = document.getElementById('map'); \" + \"\\n\"\n",
        "    result = result + \"    var options = {\" + \"\\n\"\n",
        "    result = result + \"           center: new kakao.maps.LatLng(\" + address_latlng[0] + \", \" + address_latlng[1] + \"),\" + \"\\n\"\n",
        "    result = result + \"           level: 3\" + \"\\n\"\n",
        "    result = result + \"    }; \" + \"\\n\"\n",
        "    result = result + \"    var map = new kakao.maps.Map(container, options); \" + \"\\n\"\n",
        "    \n",
        "    # 검색한 좌표의 마커 생성을 위해 추가\n",
        "    result = result + \"    var markerPosition  = new kakao.maps.LatLng(\" + address_latlng[0] + \", \" + address_latlng[1] + \");  \" + \"\\n\"\n",
        "    result = result + \"    var marker = new kakao.maps.Marker({position: markerPosition}); \" + \"\\n\"\n",
        "    result = result + \"    marker.setMap(map); \" + \"\\n\"\n",
        " \n",
        "    result = result + \"</script>\" + \"\\n\"\n",
        "    \n",
        "    # result = result + \"<div id='map' style='width:300px;height:200px;display:inline-block;'></div>\" + \"\\n\"\n",
        "    # result = result + \"<script type='text/javascript' src='//dapi.kakao.com/v2/maps/sdk.js?appkey=\" + javascript_key + \"'></script>\" + \"\\n\"\n",
        "    # result = result + \"<script>\" + \"\\n\"\n",
        "    # result = result + \"var mapContainer = document.getElementById('map'), // 지도를 표시할 div \" +\"\\n\"\n",
        "    # result = result + \"mapOption = { \" +\"\\n\"\n",
        "    # result = result + \" center: new kakao.maps.LatLng(33.450701, 126.570667), // 지도의 중심좌표\"+\"\\n\"\n",
        "    # result = result + \"level: 3 // 지도의 확대 레벨\"+\"\\n\"\n",
        "    # result = result + \"};\"\n",
        "\n",
        "    # result = result + \"var map = new kakao.maps.Map(mapContainer, mapOption); // 지도를 생성합니다\"+\"\\n\"\n",
        "\n",
        "    # # // 지도에 클릭 이벤트를 등록합니다\n",
        "    # # // 지도를 클릭하면 마지막 파라미터로 넘어온 함수를 호출합니다\n",
        "    # result = result + \"kakao.maps.event.addListener(map, 'click', function(mouseEvent) {        \"+\"\\n\"\n",
        "    \n",
        "    # # // 클릭한 위도, 경도 정보를 가져옵니다 \n",
        "    # result = result + \"var latlng = mouseEvent.latLng;\"+\"\\n\"\n",
        "    \n",
        "    # result = result + \"var message = '클릭한 위치의 위도는 ' + latlng.getLat() + ' 이고, ';\"+\"\\n\"\n",
        "    # result = result + \"message += '경도는 ' + latlng.getLng() + ' 입니다';\"+\"\\n\"\n",
        "    \n",
        "    # result = result + \"var resultDiv = document.getElementById('result');\" +\"\\n\"\n",
        "    # result = result + \"resultDiv.innerHTML = message;\"+\"\\n\"    \n",
        "    # result = result + \"});\"+\"\\n\"\n",
        "    # result = result + \"</script>\" + \"\\n\"\n",
        "\n",
        "    return result\n",
        "\n",
        "\n",
        "# 출처: https://oopaque.tistory.com/120 [Story of]"
      ]
    },
    {
      "cell_type": "code",
      "source": [
        "import folium\n",
        "\n",
        "m = folium.Map(location=[36.47687410285774, 127.29427730683514,],   \n",
        "                   zoom_start=15, max_bounds=False, width='80%', height='80%')\n",
        "\n",
        "m"
      ],
      "metadata": {
        "id": "sf9sJdbxK9YC"
      },
      "execution_count": null,
      "outputs": []
    },
    {
      "cell_type": "code",
      "source": [
        "m = folium.Map(location=[45.372, -121.6972], zoom_start=12, tiles=\"Stamen Terrain\")\n",
        "\n",
        "tooltip = \"Click me!\"\n",
        "\n",
        "folium.Marker(\n",
        "    [45.3288, -121.6625], popup=\"<i>Mt. Hood Meadows</i>\", tooltip=tooltip\n",
        ").add_to(m)\n",
        "folium.Marker(\n",
        "    [45.3311, -121.7113], popup=\"<b>Timberline Lodge</b>\", tooltip=tooltip\n",
        ").add_to(m)\n",
        "\n",
        "m"
      ],
      "metadata": {
        "id": "FRgHVhi3NGOC"
      },
      "execution_count": null,
      "outputs": []
    },
    {
      "cell_type": "code",
      "source": [
        "import folium\n",
        "\n",
        "m = folium.Map(location=[36.48, 127.29], width='80%', height='80%', zoom_start=15, max_bounds=False)\n",
        "\n",
        "# folium.Marker([36.48, 127.29], popup=\"Camp Muir\").add_to(m)\n",
        "\n",
        "m.add_child(folium.ClickForMarker(popup=\"Waypoint\"))\n",
        "\n",
        "m"
      ],
      "metadata": {
        "id": "km88ePl0NRi0"
      },
      "execution_count": null,
      "outputs": []
    },
    {
      "cell_type": "code",
      "source": [
        "make_map(df)"
      ],
      "metadata": {
        "id": "ImniOh0-6egQ"
      },
      "execution_count": null,
      "outputs": []
    },
    {
      "cell_type": "code",
      "source": [
        "import requests\n",
        "import pandas as pd\n",
        "import numpy as np\n",
        "import folium\n",
        "from folium.plugins import MiniMap"
      ],
      "metadata": {
        "id": "hmnuxpEHEi2i"
      },
      "execution_count": 13,
      "outputs": []
    },
    {
      "cell_type": "code",
      "source": [
        "##카카오 API\n",
        "## region에는 '성산일출봉 전기충전소' 검색명이 들어갈 것임\n",
        "## page_num은 1~3이 입력될 건데, 한 페이지 당 검색목록이 최대 15개임.\n",
        "## 만약 page_num이 4이상이 되면 3페이지랑 같은 15개의 결과 값을 가져옴. 그래서 1~3만 쓰는 것임\n",
        "## 입력 예시 -->> headers = {\"Authorization\": \"KakaoAK f221u3894o198123r9\"}\n",
        "## ['meta']['total_count']은 내가 '성산일출봉 전기충전소'를 검색했을 때, 나오는 총 결과 값. \n",
        "## ['meta']['total_count']이 45보다 크면 45개만 가져오게 됨\n",
        "\n",
        "\n",
        "def elec_location(region,page_num):\n",
        "    url = 'https://dapi.kakao.com/v2/local/search/keyword.json'\n",
        "    params = {'query': region,'page': page_num}\n",
        "#   headers = {\"Authorization\": \"KakaoAK 여기다가 본인의 REST API 키\"}\n",
        "    headers = {\"Authorization\": \"KakaoAK b4d00b228fe499c4993cc1ccb2f4e87c\"}\n",
        "    places = requests.get(url, params=params, headers=headers).json()['documents']\n",
        "    total = requests.get(url, params=params, headers=headers).json()['meta']['total_count']\n",
        "    if total > 1:\n",
        "        print(total,'개 중 1개 데이터만 가져옵니다.!')\n",
        "    else :\n",
        "        print('모든 데이터를 가져왔습니다!')\n",
        "    return places"
      ],
      "metadata": {
        "id": "yC_xKd8LEkgK"
      },
      "execution_count": 6,
      "outputs": []
    },
    {
      "cell_type": "code",
      "source": [
        "def elec_info(places):\n",
        "    X = []\n",
        "    Y = []\n",
        "    stores = []\n",
        "    road_address = []\n",
        "    place_url = []\n",
        "    ID = []\n",
        "    for place in places:\n",
        "        X.append(float(place['x']))\n",
        "        Y.append(float(place['y']))\n",
        "        stores.append(place['place_name'])\n",
        "        road_address.append(place['road_address_name'])\n",
        "        place_url.append(place['place_url'])\n",
        "        ID.append(place['id'])\n",
        "\n",
        "    ar = np.array([ID,stores, X, Y, road_address,place_url]).T\n",
        "    df = pd.DataFrame(ar, columns = ['ID','stores', 'X', 'Y','road_address','place_url'])\n",
        "    return df"
      ],
      "metadata": {
        "id": "Tuq6hbIFErVi"
      },
      "execution_count": 7,
      "outputs": []
    },
    {
      "cell_type": "code",
      "source": [
        "## 여러개으 키워드를 검색할 때 사용할 함수임\n",
        "## location_name에는 ['성산일출봉 전기충전소, '한림공원 전기충전소', ... ,'모슬포 전기충전소']처럼 배열이 입력\n",
        "\n",
        "def keywords(location_name):\n",
        "    df = None\n",
        "    for loca in location:\n",
        "        for page in range(1,4):\n",
        "            local_name = elec_location(loca, page)\n",
        "            local_elec_info = elec_info(local_name)\n",
        "\n",
        "            if df is None:\n",
        "                df = local_elec_info\n",
        "            elif local_elec_info is None:\n",
        "                continue\n",
        "            else:\n",
        "                df = pd.concat([df, local_elec_info],join='outer', ignore_index = True)\n",
        "    return df"
      ],
      "metadata": {
        "id": "M-hslPwwFUy5"
      },
      "execution_count": 8,
      "outputs": []
    },
    {
      "cell_type": "code",
      "source": [
        "dfA = []\n",
        "dfA = ['127.29427730683514,36.47687410285774']"
      ],
      "metadata": {
        "id": "8Ajtr2MZ0_gn"
      },
      "execution_count": null,
      "outputs": []
    },
    {
      "cell_type": "code",
      "source": [
        "dfA"
      ],
      "metadata": {
        "colab": {
          "base_uri": "https://localhost:8080/"
        },
        "id": "6dYwrGuM1FH9",
        "outputId": "6e11f7b2-0a64-4bb4-8281-793c4d5e6b04"
      },
      "execution_count": null,
      "outputs": [
        {
          "output_type": "execute_result",
          "data": {
            "text/plain": [
              "['127.29427730683514,36.47687410285774']"
            ]
          },
          "metadata": {},
          "execution_count": 25
        }
      ]
    },
    {
      "cell_type": "code",
      "source": [
        "def make_map(dfs):\n",
        "    # 지도 생성하기\n",
        " #   m = folium.Map(location=[33.4935,126.6266],   # 기준좌표: 제주어딘가로 내가 대충 설정\n",
        " #                  zoom_start=12)\n",
        "    m = folium.Map(location=[36.4875,127.28167],   \n",
        "                   zoom_start=15, max_bounds=False, width='40%', height='40%')\n",
        "# 127.28167, 36.48750\n",
        "\n",
        "    # 미니맵 추가하기\n",
        "    minimap = MiniMap() \n",
        "    m.add_child(minimap)\n",
        "#    dfA = []\n",
        "#    dfA = ['127.29427730683514,36.47687410285774']\n",
        "\n",
        "  # 마커 추가하기\n",
        "#    for i in range(len(dfs)):\n",
        "\n",
        "#   folium.Marker(location=[dfA],\n",
        "    folium.Marker(location=[127.29427730683514,36.47687410285774],\n",
        "                       icon = folium.Icon(),popup='<b>세종시청</b>',\n",
        "#                    tooltip=dfs['stores'][i],\n",
        "#                    \n",
        "                    ).add_to(m)\n",
        "\n",
        "\n",
        "#    for i in range()\n",
        "\n",
        "\n",
        "\n",
        "    return m\n",
        "\n",
        "    # 마커 추가하기\n",
        "#    for i in range(len(dfs)):\n",
        "#         folium.Marker([df['Y'][i],df['X'][i]],\n",
        "#                    tooltip=dfs['stores'][i],\n",
        "#                    popup=dfs['place_url'][i],\n",
        "#                    ).add_to(m)\n",
        "\n",
        "#folium.Marker([df['Y'],df['X']], tooltip=df['stores'],popup=df['place_url'],).add_to(m)\n",
        "#folium.Marker([df['Y'],df['X']],popup=df['place_url'])\n",
        "\n",
        "#folium.Marker(\n",
        "#    location=[36.48006310909889, 127.28919531800284],\n",
        "#    icon = folium.Icon())\n",
        "#.add_to(m)\n",
        "#tooltip = \"Click!\""
      ],
      "metadata": {
        "id": "vOpI5hFIFbrD"
      },
      "execution_count": 9,
      "outputs": []
    },
    {
      "cell_type": "code",
      "source": [
        "from google.colab import drive\n",
        "drive.mount('/content/drive')\n",
        "\n",
        "#pd.read_excel(\"/content/drive/MyDrive/AILab-colab/220228_kakaomap/세종 거주 직원.XLS\", sheet_name=\"조건별직원현황조회\")\n",
        "#pd.read_excel(\"/content/drive/MyDrive/AILab-colab/220228_kakaomap/세종거주직원.xls\")\n",
        "#addreOri = pd.read_csv(\"/content/drive/MyDrive/AILab-colab/220228_kakaomap/세종거주직원.csv\",index=False)\n",
        "addreOri = pd.read_csv(\"/content/drive/MyDrive/AILab-colab/220228_kakaomap/세종거주직원.csv\")"
      ],
      "metadata": {
        "colab": {
          "base_uri": "https://localhost:8080/"
        },
        "id": "3tJRNQTiWaoI",
        "outputId": "8a4cc06b-f4d5-4653-817a-a1cdcb3efcd4"
      },
      "execution_count": 14,
      "outputs": [
        {
          "output_type": "stream",
          "name": "stdout",
          "text": [
            "Drive already mounted at /content/drive; to attempt to forcibly remount, call drive.mount(\"/content/drive\", force_remount=True).\n"
          ]
        }
      ]
    },
    {
      "cell_type": "code",
      "source": [
        "df = addreOri\n",
        "\n",
        "df = df.rename(columns=df.iloc[0])\n",
        "df = df.drop(df.index[0])\n",
        "\n",
        "print(df)\n",
        "print(\"check\")\n",
        "\n",
        "#df = df[df['현주소'].str.contains('세종')]\n",
        "df = df.astype({'순번':'float'})\n",
        "df = df.astype({'현주소':'string'})\n",
        "df.dtypes\n",
        "#print(df['현주소'].str.contains('세종', na=False))\n",
        "df = df[df['현주소'].str.contains('세종')]\n",
        "\n",
        "df = df[[\"성명\",\"현주소\"]] \n",
        "#df[(df['부서']!='연구관리처') & (df['순번']>=10)]\n"
      ],
      "metadata": {
        "id": "kiebTXQoaiMB",
        "colab": {
          "base_uri": "https://localhost:8080/"
        },
        "outputId": "eca88997-d219-4a7d-cbaa-5f6828b4bc2a"
      },
      "execution_count": 15,
      "outputs": [
        {
          "output_type": "stream",
          "name": "stdout",
          "text": [
            "      순번          본부       부서  ...   직군     직급                             현주소\n",
            "1      1  K-water연구원  물에너지연구소  ...  일반직  2급(갑)  대전광역시 서구 대덕대로 415 109동 1207호 (\n",
            "2      2  K-water연구원    연구관리처  ...  일반직  2급(을)  서울특별시 마포구 마포대로11길 50 410동 902호\n",
            "3      3  K-water연구원   물정책연구소  ...  일반직  2급(을)  대전광역시 유성구 배울1로 35 405-702 (관평동\n",
            "4      1  K-water연구원    연구관리처  ...  일반직  2급(을)  세종특별자치시  보람동로 13 607동 802호 (보람\n",
            "5      2  K-water연구원    연구관리처  ...  일반직     3급  세종특별자치시  달빛로 109 407동 1401호 (아\n",
            "..   ...         ...      ...  ...  ...    ...                             ...\n",
            "155  153  K-water연구원    연구관리처  ...  실무직    실무직  대전광역시 서구 월평동로 45 102동302호 (월평동\n",
            "156   27  K-water연구원  물에너지연구소  ...  특정직  업무지원직  세종특별자치시  남세종로 384 903동402호 (보람\n",
            "157  155  K-water연구원    연구관리처  ...  실무직    실무직  대전광역시 대덕구 동춘당로114번길 60 305동 19\n",
            "158  156  K-water연구원    연구관리처  ...  실무직    실무직  대전광역시 동구 신기로 100 606-203 (가오동,\n",
            "159  157  K-water연구원  물에너지연구소  ...  실무직    실무직  대전광역시 서구 도안북로 136 110동 1403호 (\n",
            "\n",
            "[159 rows x 8 columns]\n",
            "check\n"
          ]
        }
      ]
    },
    {
      "cell_type": "code",
      "source": [
        "df.shape"
      ],
      "metadata": {
        "colab": {
          "base_uri": "https://localhost:8080/"
        },
        "id": "wu2WySxI66-_",
        "outputId": "12965ba9-247a-44d4-fc07-d1721dbf2823"
      },
      "execution_count": 16,
      "outputs": [
        {
          "output_type": "execute_result",
          "data": {
            "text/plain": [
              "(27, 2)"
            ]
          },
          "metadata": {},
          "execution_count": 16
        }
      ]
    },
    {
      "cell_type": "code",
      "source": [
        "df.to_csv(\"/content/drive/MyDrive/AILab-colab/220228_kakaomap/세종_이름_주소.csv\", encoding='cp949')"
      ],
      "metadata": {
        "id": "5HIdemKW9iw0"
      },
      "execution_count": 17,
      "outputs": []
    },
    {
      "cell_type": "code",
      "source": [
        "df['현주소']"
      ],
      "metadata": {
        "id": "1cU7oH4A_iXR",
        "colab": {
          "base_uri": "https://localhost:8080/"
        },
        "outputId": "c8e460de-1070-400e-e607-a2188d51f2de"
      },
      "execution_count": 18,
      "outputs": [
        {
          "output_type": "execute_result",
          "data": {
            "text/plain": [
              "4      세종특별자치시  보람동로 13 607동 802호 (보람\n",
              "5      세종특별자치시  달빛로 109 407동 1401호 (아\n",
              "7                   세종특별자치시 도램마을 12단지\n",
              "11     세종특별자치시  새롬북로 13 410-2505 (새롬동\n",
              "12     세종특별자치시  보람동로 13 602동 304호 (보람\n",
              "18     세종특별자치시  집현서2로 84 1107동 905호 (\n",
              "19     세종특별자치시  다솜로 290 한뜰마을@ 313동 10\n",
              "28     세종특별자치시  새롬북로 14 306동 102호 (새롬\n",
              "34     세종특별자치시  반곡로 15 319동 1002호 (반곡\n",
              "36     세종특별자치시  남세종로 441 호려울마을5단지 506\n",
              "45     세종특별자치시  보듬4로 9 1101동2901호 (도담\n",
              "47     세종특별자치시  보람로 15 902동 1002호 (도담\n",
              "55     세종특별자치시  해밀3로 32 124동 602호 (해밀\n",
              "63     세종특별자치시  반곡로 14 114-903 (반곡동,수\n",
              "64     세종특별자치시  보듬3로 74 1204동 1401호 (\n",
              "88     세종특별자치시  도움1로 55 905동603호 (종촌동\n",
              "89     세종특별자치시  나리1로 15 306-311 (한솔동,\n",
              "97     세종특별자치시  나리로 38 첫마을아파트 7단지 708\n",
              "101    세종특별자치시  남세종로 301 505동 402호 (소\n",
              "106    세종특별자치시 세종특별자치시 연동면 태산로 58 102\n",
              "117    세종특별자치시  다정북로 109 322동 1002호 (\n",
              "122    세종특별자치시  새롬북로 13  (새롬동,새뜸마을4단지\n",
              "130    세종특별자치시  대평1길 27 101동 303호 (대평\n",
              "146    세종특별자치시  마음로 49 206동 501호 (고운동\n",
              "147    세종특별자치시  남세종로 302 618동 1203호 (\n",
              "150    세종특별자치시  다정남로 22 107동 1301호 (다\n",
              "156    세종특별자치시  남세종로 384 903동402호 (보람\n",
              "Name: 현주소, dtype: string"
            ]
          },
          "metadata": {},
          "execution_count": 18
        }
      ]
    },
    {
      "cell_type": "code",
      "source": [
        "df = df.transpose()\n"
      ],
      "metadata": {
        "id": "bVXKRxLgFa-D"
      },
      "execution_count": 19,
      "outputs": []
    },
    {
      "cell_type": "code",
      "source": [
        "df.shape"
      ],
      "metadata": {
        "colab": {
          "base_uri": "https://localhost:8080/"
        },
        "id": "JaZ-qXJtFsx8",
        "outputId": "88ae6651-e300-4553-e397-db941180cff3"
      },
      "execution_count": null,
      "outputs": [
        {
          "output_type": "execute_result",
          "data": {
            "text/plain": [
              "(2, 27)"
            ]
          },
          "metadata": {},
          "execution_count": 119
        }
      ]
    },
    {
      "cell_type": "markdown",
      "source": [
        ""
      ],
      "metadata": {
        "id": "9gWfENxD9M8K"
      }
    },
    {
      "cell_type": "code",
      "source": [
        "df"
      ],
      "metadata": {
        "id": "U3bvnhdGFwQ0",
        "outputId": "2755d9ec-891c-4583-8ae2-63a529d8f069",
        "colab": {
          "base_uri": "https://localhost:8080/",
          "height": 246
        }
      },
      "execution_count": 20,
      "outputs": [
        {
          "output_type": "execute_result",
          "data": {
            "text/html": [
              "\n",
              "  <div id=\"df-955150d0-4a01-460d-9d91-d1fa54df75ad\">\n",
              "    <div class=\"colab-df-container\">\n",
              "      <div>\n",
              "<style scoped>\n",
              "    .dataframe tbody tr th:only-of-type {\n",
              "        vertical-align: middle;\n",
              "    }\n",
              "\n",
              "    .dataframe tbody tr th {\n",
              "        vertical-align: top;\n",
              "    }\n",
              "\n",
              "    .dataframe thead th {\n",
              "        text-align: right;\n",
              "    }\n",
              "</style>\n",
              "<table border=\"1\" class=\"dataframe\">\n",
              "  <thead>\n",
              "    <tr style=\"text-align: right;\">\n",
              "      <th></th>\n",
              "      <th>4</th>\n",
              "      <th>5</th>\n",
              "      <th>7</th>\n",
              "      <th>11</th>\n",
              "      <th>12</th>\n",
              "      <th>18</th>\n",
              "      <th>19</th>\n",
              "      <th>28</th>\n",
              "      <th>34</th>\n",
              "      <th>36</th>\n",
              "      <th>45</th>\n",
              "      <th>47</th>\n",
              "      <th>55</th>\n",
              "      <th>63</th>\n",
              "      <th>64</th>\n",
              "      <th>88</th>\n",
              "      <th>89</th>\n",
              "      <th>97</th>\n",
              "      <th>101</th>\n",
              "      <th>106</th>\n",
              "      <th>117</th>\n",
              "      <th>122</th>\n",
              "      <th>130</th>\n",
              "      <th>146</th>\n",
              "      <th>147</th>\n",
              "      <th>150</th>\n",
              "      <th>156</th>\n",
              "    </tr>\n",
              "  </thead>\n",
              "  <tbody>\n",
              "    <tr>\n",
              "      <th>성명</th>\n",
              "      <td>이종정</td>\n",
              "      <td>김국진</td>\n",
              "      <td>박찬경</td>\n",
              "      <td>김정호</td>\n",
              "      <td>김수진</td>\n",
              "      <td>홍정아</td>\n",
              "      <td>김현주</td>\n",
              "      <td>유영범</td>\n",
              "      <td>김성훈</td>\n",
              "      <td>박노혁</td>\n",
              "      <td>강순구</td>\n",
              "      <td>김호준</td>\n",
              "      <td>이상욱</td>\n",
              "      <td>김미은</td>\n",
              "      <td>권순범</td>\n",
              "      <td>배철호</td>\n",
              "      <td>정경수</td>\n",
              "      <td>원대준</td>\n",
              "      <td>최효연</td>\n",
              "      <td>이화령</td>\n",
              "      <td>이인록</td>\n",
              "      <td>김태영</td>\n",
              "      <td>박동순</td>\n",
              "      <td>조성배</td>\n",
              "      <td>안상병</td>\n",
              "      <td>임지연</td>\n",
              "      <td>류광식</td>\n",
              "    </tr>\n",
              "    <tr>\n",
              "      <th>현주소</th>\n",
              "      <td>세종특별자치시  보람동로 13 607동 802호 (보람</td>\n",
              "      <td>세종특별자치시  달빛로 109 407동 1401호 (아</td>\n",
              "      <td>세종특별자치시 도램마을 12단지</td>\n",
              "      <td>세종특별자치시  새롬북로 13 410-2505 (새롬동</td>\n",
              "      <td>세종특별자치시  보람동로 13 602동 304호 (보람</td>\n",
              "      <td>세종특별자치시  집현서2로 84 1107동 905호 (</td>\n",
              "      <td>세종특별자치시  다솜로 290 한뜰마을@ 313동 10</td>\n",
              "      <td>세종특별자치시  새롬북로 14 306동 102호 (새롬</td>\n",
              "      <td>세종특별자치시  반곡로 15 319동 1002호 (반곡</td>\n",
              "      <td>세종특별자치시  남세종로 441 호려울마을5단지 506</td>\n",
              "      <td>세종특별자치시  보듬4로 9 1101동2901호 (도담</td>\n",
              "      <td>세종특별자치시  보람로 15 902동 1002호 (도담</td>\n",
              "      <td>세종특별자치시  해밀3로 32 124동 602호 (해밀</td>\n",
              "      <td>세종특별자치시  반곡로 14 114-903 (반곡동,수</td>\n",
              "      <td>세종특별자치시  보듬3로 74 1204동 1401호 (</td>\n",
              "      <td>세종특별자치시  도움1로 55 905동603호 (종촌동</td>\n",
              "      <td>세종특별자치시  나리1로 15 306-311 (한솔동,</td>\n",
              "      <td>세종특별자치시  나리로 38 첫마을아파트 7단지 708</td>\n",
              "      <td>세종특별자치시  남세종로 301 505동 402호 (소</td>\n",
              "      <td>세종특별자치시 세종특별자치시 연동면 태산로 58 102</td>\n",
              "      <td>세종특별자치시  다정북로 109 322동 1002호 (</td>\n",
              "      <td>세종특별자치시  새롬북로 13  (새롬동,새뜸마을4단지</td>\n",
              "      <td>세종특별자치시  대평1길 27 101동 303호 (대평</td>\n",
              "      <td>세종특별자치시  마음로 49 206동 501호 (고운동</td>\n",
              "      <td>세종특별자치시  남세종로 302 618동 1203호 (</td>\n",
              "      <td>세종특별자치시  다정남로 22 107동 1301호 (다</td>\n",
              "      <td>세종특별자치시  남세종로 384 903동402호 (보람</td>\n",
              "    </tr>\n",
              "  </tbody>\n",
              "</table>\n",
              "</div>\n",
              "      <button class=\"colab-df-convert\" onclick=\"convertToInteractive('df-955150d0-4a01-460d-9d91-d1fa54df75ad')\"\n",
              "              title=\"Convert this dataframe to an interactive table.\"\n",
              "              style=\"display:none;\">\n",
              "        \n",
              "  <svg xmlns=\"http://www.w3.org/2000/svg\" height=\"24px\"viewBox=\"0 0 24 24\"\n",
              "       width=\"24px\">\n",
              "    <path d=\"M0 0h24v24H0V0z\" fill=\"none\"/>\n",
              "    <path d=\"M18.56 5.44l.94 2.06.94-2.06 2.06-.94-2.06-.94-.94-2.06-.94 2.06-2.06.94zm-11 1L8.5 8.5l.94-2.06 2.06-.94-2.06-.94L8.5 2.5l-.94 2.06-2.06.94zm10 10l.94 2.06.94-2.06 2.06-.94-2.06-.94-.94-2.06-.94 2.06-2.06.94z\"/><path d=\"M17.41 7.96l-1.37-1.37c-.4-.4-.92-.59-1.43-.59-.52 0-1.04.2-1.43.59L10.3 9.45l-7.72 7.72c-.78.78-.78 2.05 0 2.83L4 21.41c.39.39.9.59 1.41.59.51 0 1.02-.2 1.41-.59l7.78-7.78 2.81-2.81c.8-.78.8-2.07 0-2.86zM5.41 20L4 18.59l7.72-7.72 1.47 1.35L5.41 20z\"/>\n",
              "  </svg>\n",
              "      </button>\n",
              "      \n",
              "  <style>\n",
              "    .colab-df-container {\n",
              "      display:flex;\n",
              "      flex-wrap:wrap;\n",
              "      gap: 12px;\n",
              "    }\n",
              "\n",
              "    .colab-df-convert {\n",
              "      background-color: #E8F0FE;\n",
              "      border: none;\n",
              "      border-radius: 50%;\n",
              "      cursor: pointer;\n",
              "      display: none;\n",
              "      fill: #1967D2;\n",
              "      height: 32px;\n",
              "      padding: 0 0 0 0;\n",
              "      width: 32px;\n",
              "    }\n",
              "\n",
              "    .colab-df-convert:hover {\n",
              "      background-color: #E2EBFA;\n",
              "      box-shadow: 0px 1px 2px rgba(60, 64, 67, 0.3), 0px 1px 3px 1px rgba(60, 64, 67, 0.15);\n",
              "      fill: #174EA6;\n",
              "    }\n",
              "\n",
              "    [theme=dark] .colab-df-convert {\n",
              "      background-color: #3B4455;\n",
              "      fill: #D2E3FC;\n",
              "    }\n",
              "\n",
              "    [theme=dark] .colab-df-convert:hover {\n",
              "      background-color: #434B5C;\n",
              "      box-shadow: 0px 1px 3px 1px rgba(0, 0, 0, 0.15);\n",
              "      filter: drop-shadow(0px 1px 2px rgba(0, 0, 0, 0.3));\n",
              "      fill: #FFFFFF;\n",
              "    }\n",
              "  </style>\n",
              "\n",
              "      <script>\n",
              "        const buttonEl =\n",
              "          document.querySelector('#df-955150d0-4a01-460d-9d91-d1fa54df75ad button.colab-df-convert');\n",
              "        buttonEl.style.display =\n",
              "          google.colab.kernel.accessAllowed ? 'block' : 'none';\n",
              "\n",
              "        async function convertToInteractive(key) {\n",
              "          const element = document.querySelector('#df-955150d0-4a01-460d-9d91-d1fa54df75ad');\n",
              "          const dataTable =\n",
              "            await google.colab.kernel.invokeFunction('convertToInteractive',\n",
              "                                                     [key], {});\n",
              "          if (!dataTable) return;\n",
              "\n",
              "          const docLinkHtml = 'Like what you see? Visit the ' +\n",
              "            '<a target=\"_blank\" href=https://colab.research.google.com/notebooks/data_table.ipynb>data table notebook</a>'\n",
              "            + ' to learn more about interactive tables.';\n",
              "          element.innerHTML = '';\n",
              "          dataTable['output_type'] = 'display_data';\n",
              "          await google.colab.output.renderOutput(dataTable, element);\n",
              "          const docLink = document.createElement('div');\n",
              "          docLink.innerHTML = docLinkHtml;\n",
              "          element.appendChild(docLink);\n",
              "        }\n",
              "      </script>\n",
              "    </div>\n",
              "  </div>\n",
              "  "
            ],
            "text/plain": [
              "                                4    ...                             156\n",
              "성명                              이종정  ...                             류광식\n",
              "현주소  세종특별자치시  보람동로 13 607동 802호 (보람  ...  세종특별자치시  남세종로 384 903동402호 (보람\n",
              "\n",
              "[2 rows x 27 columns]"
            ]
          },
          "metadata": {},
          "execution_count": 20
        }
      ]
    },
    {
      "cell_type": "code",
      "source": [
        "df.rename(columns=df.iloc[0],inplace=True)\n",
        "df = df.drop(df.index[0])\n",
        "df\n",
        "#df.rename(columns=df.iloc[0]).drop(df.index[0])"
      ],
      "metadata": {
        "id": "mF0cnldYGywY",
        "outputId": "7c03f0e5-6b8e-4c19-ed2e-59c2e6829ce6",
        "colab": {
          "base_uri": "https://localhost:8080/",
          "height": 217
        }
      },
      "execution_count": 21,
      "outputs": [
        {
          "output_type": "execute_result",
          "data": {
            "text/html": [
              "\n",
              "  <div id=\"df-64e23757-4904-434f-8a6c-e639f44d023d\">\n",
              "    <div class=\"colab-df-container\">\n",
              "      <div>\n",
              "<style scoped>\n",
              "    .dataframe tbody tr th:only-of-type {\n",
              "        vertical-align: middle;\n",
              "    }\n",
              "\n",
              "    .dataframe tbody tr th {\n",
              "        vertical-align: top;\n",
              "    }\n",
              "\n",
              "    .dataframe thead th {\n",
              "        text-align: right;\n",
              "    }\n",
              "</style>\n",
              "<table border=\"1\" class=\"dataframe\">\n",
              "  <thead>\n",
              "    <tr style=\"text-align: right;\">\n",
              "      <th></th>\n",
              "      <th>이종정</th>\n",
              "      <th>김국진</th>\n",
              "      <th>박찬경</th>\n",
              "      <th>김정호</th>\n",
              "      <th>김수진</th>\n",
              "      <th>홍정아</th>\n",
              "      <th>김현주</th>\n",
              "      <th>유영범</th>\n",
              "      <th>김성훈</th>\n",
              "      <th>박노혁</th>\n",
              "      <th>강순구</th>\n",
              "      <th>김호준</th>\n",
              "      <th>이상욱</th>\n",
              "      <th>김미은</th>\n",
              "      <th>권순범</th>\n",
              "      <th>배철호</th>\n",
              "      <th>정경수</th>\n",
              "      <th>원대준</th>\n",
              "      <th>최효연</th>\n",
              "      <th>이화령</th>\n",
              "      <th>이인록</th>\n",
              "      <th>김태영</th>\n",
              "      <th>박동순</th>\n",
              "      <th>조성배</th>\n",
              "      <th>안상병</th>\n",
              "      <th>임지연</th>\n",
              "      <th>류광식</th>\n",
              "    </tr>\n",
              "  </thead>\n",
              "  <tbody>\n",
              "    <tr>\n",
              "      <th>현주소</th>\n",
              "      <td>세종특별자치시  보람동로 13 607동 802호 (보람</td>\n",
              "      <td>세종특별자치시  달빛로 109 407동 1401호 (아</td>\n",
              "      <td>세종특별자치시 도램마을 12단지</td>\n",
              "      <td>세종특별자치시  새롬북로 13 410-2505 (새롬동</td>\n",
              "      <td>세종특별자치시  보람동로 13 602동 304호 (보람</td>\n",
              "      <td>세종특별자치시  집현서2로 84 1107동 905호 (</td>\n",
              "      <td>세종특별자치시  다솜로 290 한뜰마을@ 313동 10</td>\n",
              "      <td>세종특별자치시  새롬북로 14 306동 102호 (새롬</td>\n",
              "      <td>세종특별자치시  반곡로 15 319동 1002호 (반곡</td>\n",
              "      <td>세종특별자치시  남세종로 441 호려울마을5단지 506</td>\n",
              "      <td>세종특별자치시  보듬4로 9 1101동2901호 (도담</td>\n",
              "      <td>세종특별자치시  보람로 15 902동 1002호 (도담</td>\n",
              "      <td>세종특별자치시  해밀3로 32 124동 602호 (해밀</td>\n",
              "      <td>세종특별자치시  반곡로 14 114-903 (반곡동,수</td>\n",
              "      <td>세종특별자치시  보듬3로 74 1204동 1401호 (</td>\n",
              "      <td>세종특별자치시  도움1로 55 905동603호 (종촌동</td>\n",
              "      <td>세종특별자치시  나리1로 15 306-311 (한솔동,</td>\n",
              "      <td>세종특별자치시  나리로 38 첫마을아파트 7단지 708</td>\n",
              "      <td>세종특별자치시  남세종로 301 505동 402호 (소</td>\n",
              "      <td>세종특별자치시 세종특별자치시 연동면 태산로 58 102</td>\n",
              "      <td>세종특별자치시  다정북로 109 322동 1002호 (</td>\n",
              "      <td>세종특별자치시  새롬북로 13  (새롬동,새뜸마을4단지</td>\n",
              "      <td>세종특별자치시  대평1길 27 101동 303호 (대평</td>\n",
              "      <td>세종특별자치시  마음로 49 206동 501호 (고운동</td>\n",
              "      <td>세종특별자치시  남세종로 302 618동 1203호 (</td>\n",
              "      <td>세종특별자치시  다정남로 22 107동 1301호 (다</td>\n",
              "      <td>세종특별자치시  남세종로 384 903동402호 (보람</td>\n",
              "    </tr>\n",
              "  </tbody>\n",
              "</table>\n",
              "</div>\n",
              "      <button class=\"colab-df-convert\" onclick=\"convertToInteractive('df-64e23757-4904-434f-8a6c-e639f44d023d')\"\n",
              "              title=\"Convert this dataframe to an interactive table.\"\n",
              "              style=\"display:none;\">\n",
              "        \n",
              "  <svg xmlns=\"http://www.w3.org/2000/svg\" height=\"24px\"viewBox=\"0 0 24 24\"\n",
              "       width=\"24px\">\n",
              "    <path d=\"M0 0h24v24H0V0z\" fill=\"none\"/>\n",
              "    <path d=\"M18.56 5.44l.94 2.06.94-2.06 2.06-.94-2.06-.94-.94-2.06-.94 2.06-2.06.94zm-11 1L8.5 8.5l.94-2.06 2.06-.94-2.06-.94L8.5 2.5l-.94 2.06-2.06.94zm10 10l.94 2.06.94-2.06 2.06-.94-2.06-.94-.94-2.06-.94 2.06-2.06.94z\"/><path d=\"M17.41 7.96l-1.37-1.37c-.4-.4-.92-.59-1.43-.59-.52 0-1.04.2-1.43.59L10.3 9.45l-7.72 7.72c-.78.78-.78 2.05 0 2.83L4 21.41c.39.39.9.59 1.41.59.51 0 1.02-.2 1.41-.59l7.78-7.78 2.81-2.81c.8-.78.8-2.07 0-2.86zM5.41 20L4 18.59l7.72-7.72 1.47 1.35L5.41 20z\"/>\n",
              "  </svg>\n",
              "      </button>\n",
              "      \n",
              "  <style>\n",
              "    .colab-df-container {\n",
              "      display:flex;\n",
              "      flex-wrap:wrap;\n",
              "      gap: 12px;\n",
              "    }\n",
              "\n",
              "    .colab-df-convert {\n",
              "      background-color: #E8F0FE;\n",
              "      border: none;\n",
              "      border-radius: 50%;\n",
              "      cursor: pointer;\n",
              "      display: none;\n",
              "      fill: #1967D2;\n",
              "      height: 32px;\n",
              "      padding: 0 0 0 0;\n",
              "      width: 32px;\n",
              "    }\n",
              "\n",
              "    .colab-df-convert:hover {\n",
              "      background-color: #E2EBFA;\n",
              "      box-shadow: 0px 1px 2px rgba(60, 64, 67, 0.3), 0px 1px 3px 1px rgba(60, 64, 67, 0.15);\n",
              "      fill: #174EA6;\n",
              "    }\n",
              "\n",
              "    [theme=dark] .colab-df-convert {\n",
              "      background-color: #3B4455;\n",
              "      fill: #D2E3FC;\n",
              "    }\n",
              "\n",
              "    [theme=dark] .colab-df-convert:hover {\n",
              "      background-color: #434B5C;\n",
              "      box-shadow: 0px 1px 3px 1px rgba(0, 0, 0, 0.15);\n",
              "      filter: drop-shadow(0px 1px 2px rgba(0, 0, 0, 0.3));\n",
              "      fill: #FFFFFF;\n",
              "    }\n",
              "  </style>\n",
              "\n",
              "      <script>\n",
              "        const buttonEl =\n",
              "          document.querySelector('#df-64e23757-4904-434f-8a6c-e639f44d023d button.colab-df-convert');\n",
              "        buttonEl.style.display =\n",
              "          google.colab.kernel.accessAllowed ? 'block' : 'none';\n",
              "\n",
              "        async function convertToInteractive(key) {\n",
              "          const element = document.querySelector('#df-64e23757-4904-434f-8a6c-e639f44d023d');\n",
              "          const dataTable =\n",
              "            await google.colab.kernel.invokeFunction('convertToInteractive',\n",
              "                                                     [key], {});\n",
              "          if (!dataTable) return;\n",
              "\n",
              "          const docLinkHtml = 'Like what you see? Visit the ' +\n",
              "            '<a target=\"_blank\" href=https://colab.research.google.com/notebooks/data_table.ipynb>data table notebook</a>'\n",
              "            + ' to learn more about interactive tables.';\n",
              "          element.innerHTML = '';\n",
              "          dataTable['output_type'] = 'display_data';\n",
              "          await google.colab.output.renderOutput(dataTable, element);\n",
              "          const docLink = document.createElement('div');\n",
              "          docLink.innerHTML = docLinkHtml;\n",
              "          element.appendChild(docLink);\n",
              "        }\n",
              "      </script>\n",
              "    </div>\n",
              "  </div>\n",
              "  "
            ],
            "text/plain": [
              "                                이종정  ...                             류광식\n",
              "현주소  세종특별자치시  보람동로 13 607동 802호 (보람  ...  세종특별자치시  남세종로 384 903동402호 (보람\n",
              "\n",
              "[1 rows x 27 columns]"
            ]
          },
          "metadata": {},
          "execution_count": 21
        }
      ]
    },
    {
      "cell_type": "code",
      "source": [
        "df"
      ],
      "metadata": {
        "id": "0PnRtoSnL4tr"
      },
      "execution_count": null,
      "outputs": []
    },
    {
      "cell_type": "code",
      "source": [
        "df.shape"
      ],
      "metadata": {
        "colab": {
          "base_uri": "https://localhost:8080/"
        },
        "id": "E3DfKwubIKX1",
        "outputId": "b89bc18f-caf4-4bdd-f046-e1aff4887be8"
      },
      "execution_count": 22,
      "outputs": [
        {
          "output_type": "execute_result",
          "data": {
            "text/plain": [
              "(1, 27)"
            ]
          },
          "metadata": {},
          "execution_count": 22
        }
      ]
    },
    {
      "cell_type": "code",
      "source": [
        "from pandas.core.frame import DataFrame\n",
        "## drop_duplicates를 해주고 인덱스 리셋을 해준다\n",
        "\n",
        "# location = ['호려울마을6단지모아엘가더테라스아파트'\n",
        "#             ,'범지기마을4단지아파트'\n",
        "#             ,'도램마을12단지엘가아파트'\n",
        "#             ,'새뜸마을4단지캐슬앤파밀리에아파트'\n",
        "#             ,'호려울마을6단지모아엘가더테라스아파트'\n",
        "#             ,'새나루마을11단지세종어울림파밀리에센트럴아파트'\n",
        "#             ,'한뜰마을3단지세종더샵레이크파크아파트'\n",
        "#             ,'새뜸마을3단지아파트'\n",
        "#             ,'수루배마을3단지리슈빌더리버아파트'\n",
        "#  ,'호려울마을5단지풍경채퍼스트앤드파크아파트'\n",
        "#  ,'도램마을11단지반도유보라아파트'\n",
        "#  ,'도램마을9단지풍경채센트럴아파트'\n",
        "#  ,'해밀마을2단지세종마스터힐스아파트'\n",
        "#  ,'수루배마을1단지아파트'\n",
        "#  ,'범지기마을12단지아파트'\n",
        "#  ,'가재마을9단지한신휴플러스리버파크아파트'\n",
        "#  ,'첫마을3단지작은도서관'\n",
        "#  ,'첫마을7단지래미안아파트'\n",
        "#  ,'새샘마을5단지세종한양수자인엘시티아파트'\n",
        "#  ,'가온마을3단지한신더휴아파트'\n",
        "#  ,'새뜸마을4단지캐슬앤파밀리에아파트'\n",
        "#  ,'해들마을1단지신동아파밀리에3차아파트'\n",
        "#  ,'가락마을2단지세종힐데스하임아파트'\n",
        "#  ,'새샘마을6단지한신더휴펜타힐스아파트'\n",
        "#  ,'가온마을1단지힐스테이트세종2차아파트'\n",
        "#  ,'호려울마을9단지한양수자인와이즈시티아파트']\n",
        "\n",
        "location = ['세종특별자치시청']\n",
        "#location = df\n",
        "\n",
        "df = keywords(location)\n",
        "df = df.drop_duplicates(['ID'])\n",
        "df = df.reset_index()\n",
        "#df.to_csv(\"./SJ_address.csv\", header=False, index=False, mode='w')\n",
        "\n",
        "df\n",
        "# df.to_csv(\"SJ_address.csv\", header=True, index=True, mode='w', encoding='CP949')\n",
        "#df.to_csv(\"/content/drive/MyDrive/AILab-colab/220228_kakaomap/office.csv\", header=True, index=True, mode='w', encoding='CP949')\n",
        "\n",
        "#address_pd = pd.DataFrame(location)\n",
        "#print(address_pd)\n",
        "#address_pd.to_csv(\"SJ_address.csv\", header=False, index=False)\n",
        "\n",
        "# make_map(df)"
      ],
      "metadata": {
        "id": "HeBEt1fAFk3i",
        "colab": {
          "base_uri": "https://localhost:8080/",
          "height": 606
        },
        "outputId": "1945ad89-37c5-4626-9db3-cad61b8ae0f2"
      },
      "execution_count": null,
      "outputs": [
        {
          "output_type": "stream",
          "name": "stdout",
          "text": [
            "16 개 중 1개 데이터만 가져옵니다.!\n",
            "16 개 중 1개 데이터만 가져옵니다.!\n",
            "16 개 중 1개 데이터만 가져옵니다.!\n"
          ]
        },
        {
          "output_type": "execute_result",
          "data": {
            "text/html": [
              "\n",
              "  <div id=\"df-fa3a2687-4cec-452c-bde5-74c844c97c54\">\n",
              "    <div class=\"colab-df-container\">\n",
              "      <div>\n",
              "<style scoped>\n",
              "    .dataframe tbody tr th:only-of-type {\n",
              "        vertical-align: middle;\n",
              "    }\n",
              "\n",
              "    .dataframe tbody tr th {\n",
              "        vertical-align: top;\n",
              "    }\n",
              "\n",
              "    .dataframe thead th {\n",
              "        text-align: right;\n",
              "    }\n",
              "</style>\n",
              "<table border=\"1\" class=\"dataframe\">\n",
              "  <thead>\n",
              "    <tr style=\"text-align: right;\">\n",
              "      <th></th>\n",
              "      <th>index</th>\n",
              "      <th>ID</th>\n",
              "      <th>stores</th>\n",
              "      <th>X</th>\n",
              "      <th>Y</th>\n",
              "      <th>road_address</th>\n",
              "      <th>place_url</th>\n",
              "    </tr>\n",
              "  </thead>\n",
              "  <tbody>\n",
              "    <tr>\n",
              "      <th>0</th>\n",
              "      <td>0</td>\n",
              "      <td>17821544</td>\n",
              "      <td>세종특별자치시청</td>\n",
              "      <td>127.28919531800284</td>\n",
              "      <td>36.48006310909889</td>\n",
              "      <td>세종특별자치시 한누리대로 2130</td>\n",
              "      <td>http://place.map.kakao.com/17821544</td>\n",
              "    </tr>\n",
              "    <tr>\n",
              "      <th>1</th>\n",
              "      <td>1</td>\n",
              "      <td>26854893</td>\n",
              "      <td>세종특별자치시청 조치원청사</td>\n",
              "      <td>127.292373816017</td>\n",
              "      <td>36.5928990837884</td>\n",
              "      <td>세종특별자치시 조치원읍 군청로 93</td>\n",
              "      <td>http://place.map.kakao.com/26854893</td>\n",
              "    </tr>\n",
              "    <tr>\n",
              "      <th>2</th>\n",
              "      <td>2</td>\n",
              "      <td>18085152</td>\n",
              "      <td>세종특별자치시청 조치원청사 출입구</td>\n",
              "      <td>127.2933759456041</td>\n",
              "      <td>36.593120104263065</td>\n",
              "      <td>세종특별자치시 조치원읍 군청로 93</td>\n",
              "      <td>http://place.map.kakao.com/18085152</td>\n",
              "    </tr>\n",
              "    <tr>\n",
              "      <th>3</th>\n",
              "      <td>3</td>\n",
              "      <td>18488409</td>\n",
              "      <td>세종특별자치시청 별관</td>\n",
              "      <td>127.293604095033</td>\n",
              "      <td>36.5270367242072</td>\n",
              "      <td>세종특별자치시 연기면 임난수로 317</td>\n",
              "      <td>http://place.map.kakao.com/18488409</td>\n",
              "    </tr>\n",
              "    <tr>\n",
              "      <th>4</th>\n",
              "      <td>4</td>\n",
              "      <td>17759719</td>\n",
              "      <td>세종특별자치시청 세종민원실</td>\n",
              "      <td>127.289208876029</td>\n",
              "      <td>36.4801081341364</td>\n",
              "      <td>세종특별자치시 한누리대로 2130</td>\n",
              "      <td>http://place.map.kakao.com/17759719</td>\n",
              "    </tr>\n",
              "    <tr>\n",
              "      <th>5</th>\n",
              "      <td>5</td>\n",
              "      <td>1786467738</td>\n",
              "      <td>세종특별자치시청 주차장</td>\n",
              "      <td>127.287000034018</td>\n",
              "      <td>36.4793700116073</td>\n",
              "      <td></td>\n",
              "      <td>http://place.map.kakao.com/1786467738</td>\n",
              "    </tr>\n",
              "    <tr>\n",
              "      <th>6</th>\n",
              "      <td>6</td>\n",
              "      <td>1466069659</td>\n",
              "      <td>세종특별자치시청 여민실</td>\n",
              "      <td>127.289217722716</td>\n",
              "      <td>36.4800864849058</td>\n",
              "      <td>세종특별자치시 한누리대로 2130</td>\n",
              "      <td>http://place.map.kakao.com/1466069659</td>\n",
              "    </tr>\n",
              "    <tr>\n",
              "      <th>7</th>\n",
              "      <td>7</td>\n",
              "      <td>884353201</td>\n",
              "      <td>세종특별자치시청 정문</td>\n",
              "      <td>127.288961064754</td>\n",
              "      <td>36.4797852187669</td>\n",
              "      <td>세종특별자치시 한누리대로 2130</td>\n",
              "      <td>http://place.map.kakao.com/884353201</td>\n",
              "    </tr>\n",
              "    <tr>\n",
              "      <th>8</th>\n",
              "      <td>8</td>\n",
              "      <td>884494455</td>\n",
              "      <td>세종특별자치시청 동문</td>\n",
              "      <td>127.289458327879</td>\n",
              "      <td>36.4802715400482</td>\n",
              "      <td>세종특별자치시 한누리대로 2130</td>\n",
              "      <td>http://place.map.kakao.com/884494455</td>\n",
              "    </tr>\n",
              "    <tr>\n",
              "      <th>9</th>\n",
              "      <td>9</td>\n",
              "      <td>17758288</td>\n",
              "      <td>세종특별자치시청 경제산업국</td>\n",
              "      <td>127.29185742556136</td>\n",
              "      <td>36.48054866008294</td>\n",
              "      <td>세종특별자치시 시청대로 180</td>\n",
              "      <td>http://place.map.kakao.com/17758288</td>\n",
              "    </tr>\n",
              "    <tr>\n",
              "      <th>10</th>\n",
              "      <td>10</td>\n",
              "      <td>166024569</td>\n",
              "      <td>세종특별자치시청 참여공동체과</td>\n",
              "      <td>127.289086085418</td>\n",
              "      <td>36.4800967166116</td>\n",
              "      <td>세종특별자치시 한누리대로 2130</td>\n",
              "      <td>http://place.map.kakao.com/166024569</td>\n",
              "    </tr>\n",
              "    <tr>\n",
              "      <th>11</th>\n",
              "      <td>11</td>\n",
              "      <td>1142686209</td>\n",
              "      <td>세종특별자치시청 문화체육관광국</td>\n",
              "      <td>127.289080572952</td>\n",
              "      <td>36.4801147531238</td>\n",
              "      <td>세종특별자치시 한누리대로 2130</td>\n",
              "      <td>http://place.map.kakao.com/1142686209</td>\n",
              "    </tr>\n",
              "    <tr>\n",
              "      <th>12</th>\n",
              "      <td>12</td>\n",
              "      <td>31540564</td>\n",
              "      <td>세종특별자치시청 세원관리과</td>\n",
              "      <td>127.289080656636</td>\n",
              "      <td>36.4801372818688</td>\n",
              "      <td>세종특별자치시 한누리대로 2130</td>\n",
              "      <td>http://place.map.kakao.com/31540564</td>\n",
              "    </tr>\n",
              "    <tr>\n",
              "      <th>13</th>\n",
              "      <td>13</td>\n",
              "      <td>495371444</td>\n",
              "      <td>세종특별자치시청 아동청소년과</td>\n",
              "      <td>127.289039074436</td>\n",
              "      <td>36.4800580806978</td>\n",
              "      <td>세종특별자치시 한누리대로 2130</td>\n",
              "      <td>http://place.map.kakao.com/495371444</td>\n",
              "    </tr>\n",
              "    <tr>\n",
              "      <th>14</th>\n",
              "      <td>14</td>\n",
              "      <td>2014191167</td>\n",
              "      <td>세종YWCA 성인권상담센터</td>\n",
              "      <td>127.29237958711114</td>\n",
              "      <td>36.59294773123442</td>\n",
              "      <td>세종특별자치시 조치원읍 군청로 93</td>\n",
              "      <td>http://place.map.kakao.com/2014191167</td>\n",
              "    </tr>\n",
              "    <tr>\n",
              "      <th>15</th>\n",
              "      <td>15</td>\n",
              "      <td>1133071059</td>\n",
              "      <td>하나은행365 구.세종시청출장소</td>\n",
              "      <td>127.292552575857</td>\n",
              "      <td>36.5928878314677</td>\n",
              "      <td>세종특별자치시 조치원읍 군청로 93</td>\n",
              "      <td>http://place.map.kakao.com/1133071059</td>\n",
              "    </tr>\n",
              "  </tbody>\n",
              "</table>\n",
              "</div>\n",
              "      <button class=\"colab-df-convert\" onclick=\"convertToInteractive('df-fa3a2687-4cec-452c-bde5-74c844c97c54')\"\n",
              "              title=\"Convert this dataframe to an interactive table.\"\n",
              "              style=\"display:none;\">\n",
              "        \n",
              "  <svg xmlns=\"http://www.w3.org/2000/svg\" height=\"24px\"viewBox=\"0 0 24 24\"\n",
              "       width=\"24px\">\n",
              "    <path d=\"M0 0h24v24H0V0z\" fill=\"none\"/>\n",
              "    <path d=\"M18.56 5.44l.94 2.06.94-2.06 2.06-.94-2.06-.94-.94-2.06-.94 2.06-2.06.94zm-11 1L8.5 8.5l.94-2.06 2.06-.94-2.06-.94L8.5 2.5l-.94 2.06-2.06.94zm10 10l.94 2.06.94-2.06 2.06-.94-2.06-.94-.94-2.06-.94 2.06-2.06.94z\"/><path d=\"M17.41 7.96l-1.37-1.37c-.4-.4-.92-.59-1.43-.59-.52 0-1.04.2-1.43.59L10.3 9.45l-7.72 7.72c-.78.78-.78 2.05 0 2.83L4 21.41c.39.39.9.59 1.41.59.51 0 1.02-.2 1.41-.59l7.78-7.78 2.81-2.81c.8-.78.8-2.07 0-2.86zM5.41 20L4 18.59l7.72-7.72 1.47 1.35L5.41 20z\"/>\n",
              "  </svg>\n",
              "      </button>\n",
              "      \n",
              "  <style>\n",
              "    .colab-df-container {\n",
              "      display:flex;\n",
              "      flex-wrap:wrap;\n",
              "      gap: 12px;\n",
              "    }\n",
              "\n",
              "    .colab-df-convert {\n",
              "      background-color: #E8F0FE;\n",
              "      border: none;\n",
              "      border-radius: 50%;\n",
              "      cursor: pointer;\n",
              "      display: none;\n",
              "      fill: #1967D2;\n",
              "      height: 32px;\n",
              "      padding: 0 0 0 0;\n",
              "      width: 32px;\n",
              "    }\n",
              "\n",
              "    .colab-df-convert:hover {\n",
              "      background-color: #E2EBFA;\n",
              "      box-shadow: 0px 1px 2px rgba(60, 64, 67, 0.3), 0px 1px 3px 1px rgba(60, 64, 67, 0.15);\n",
              "      fill: #174EA6;\n",
              "    }\n",
              "\n",
              "    [theme=dark] .colab-df-convert {\n",
              "      background-color: #3B4455;\n",
              "      fill: #D2E3FC;\n",
              "    }\n",
              "\n",
              "    [theme=dark] .colab-df-convert:hover {\n",
              "      background-color: #434B5C;\n",
              "      box-shadow: 0px 1px 3px 1px rgba(0, 0, 0, 0.15);\n",
              "      filter: drop-shadow(0px 1px 2px rgba(0, 0, 0, 0.3));\n",
              "      fill: #FFFFFF;\n",
              "    }\n",
              "  </style>\n",
              "\n",
              "      <script>\n",
              "        const buttonEl =\n",
              "          document.querySelector('#df-fa3a2687-4cec-452c-bde5-74c844c97c54 button.colab-df-convert');\n",
              "        buttonEl.style.display =\n",
              "          google.colab.kernel.accessAllowed ? 'block' : 'none';\n",
              "\n",
              "        async function convertToInteractive(key) {\n",
              "          const element = document.querySelector('#df-fa3a2687-4cec-452c-bde5-74c844c97c54');\n",
              "          const dataTable =\n",
              "            await google.colab.kernel.invokeFunction('convertToInteractive',\n",
              "                                                     [key], {});\n",
              "          if (!dataTable) return;\n",
              "\n",
              "          const docLinkHtml = 'Like what you see? Visit the ' +\n",
              "            '<a target=\"_blank\" href=https://colab.research.google.com/notebooks/data_table.ipynb>data table notebook</a>'\n",
              "            + ' to learn more about interactive tables.';\n",
              "          element.innerHTML = '';\n",
              "          dataTable['output_type'] = 'display_data';\n",
              "          await google.colab.output.renderOutput(dataTable, element);\n",
              "          const docLink = document.createElement('div');\n",
              "          docLink.innerHTML = docLinkHtml;\n",
              "          element.appendChild(docLink);\n",
              "        }\n",
              "      </script>\n",
              "    </div>\n",
              "  </div>\n",
              "  "
            ],
            "text/plain": [
              "    index  ...                              place_url\n",
              "0       0  ...    http://place.map.kakao.com/17821544\n",
              "1       1  ...    http://place.map.kakao.com/26854893\n",
              "2       2  ...    http://place.map.kakao.com/18085152\n",
              "3       3  ...    http://place.map.kakao.com/18488409\n",
              "4       4  ...    http://place.map.kakao.com/17759719\n",
              "5       5  ...  http://place.map.kakao.com/1786467738\n",
              "6       6  ...  http://place.map.kakao.com/1466069659\n",
              "7       7  ...   http://place.map.kakao.com/884353201\n",
              "8       8  ...   http://place.map.kakao.com/884494455\n",
              "9       9  ...    http://place.map.kakao.com/17758288\n",
              "10     10  ...   http://place.map.kakao.com/166024569\n",
              "11     11  ...  http://place.map.kakao.com/1142686209\n",
              "12     12  ...    http://place.map.kakao.com/31540564\n",
              "13     13  ...   http://place.map.kakao.com/495371444\n",
              "14     14  ...  http://place.map.kakao.com/2014191167\n",
              "15     15  ...  http://place.map.kakao.com/1133071059\n",
              "\n",
              "[16 rows x 7 columns]"
            ]
          },
          "metadata": {},
          "execution_count": 29
        }
      ]
    },
    {
      "cell_type": "code",
      "source": [
        "make_map(df)"
      ],
      "metadata": {
        "id": "hEkZcE4VF6Iy",
        "colab": {
          "base_uri": "https://localhost:8080/",
          "height": 1000
        },
        "outputId": "4272b0a6-39c0-40d7-b810-afc8f80455b4"
      },
      "execution_count": 23,
      "outputs": [
        {
          "output_type": "execute_result",
          "data": {
            "text/html": [
              "<div style=\"width:100%;\"><div style=\"position:relative;width:100%;height:0;padding-bottom:60%;\"><span style=\"color:#565656\">Make this Notebook Trusted to load map: File -> Trust Notebook</span><iframe src=\"about:blank\" style=\"position:absolute;width:100%;height:100%;left:0;top:0;border:none !important;\" data-html=%3C%21DOCTYPE%20html%3E%0A%3Chead%3E%20%20%20%20%0A%20%20%20%20%3Cmeta%20http-equiv%3D%22content-type%22%20content%3D%22text/html%3B%20charset%3DUTF-8%22%20/%3E%0A%20%20%20%20%3Cscript%3EL_PREFER_CANVAS%3Dfalse%3B%20L_NO_TOUCH%3Dfalse%3B%20L_DISABLE_3D%3Dfalse%3B%3C/script%3E%0A%20%20%20%20%3Cscript%20src%3D%22https%3A//cdn.jsdelivr.net/npm/leaflet%401.4.0/dist/leaflet.js%22%3E%3C/script%3E%0A%20%20%20%20%3Cscript%20src%3D%22https%3A//code.jquery.com/jquery-1.12.4.min.js%22%3E%3C/script%3E%0A%20%20%20%20%3Cscript%20src%3D%22https%3A//maxcdn.bootstrapcdn.com/bootstrap/3.2.0/js/bootstrap.min.js%22%3E%3C/script%3E%0A%20%20%20%20%3Cscript%20src%3D%22https%3A//cdnjs.cloudflare.com/ajax/libs/Leaflet.awesome-markers/2.0.2/leaflet.awesome-markers.js%22%3E%3C/script%3E%0A%20%20%20%20%3Clink%20rel%3D%22stylesheet%22%20href%3D%22https%3A//cdn.jsdelivr.net/npm/leaflet%401.4.0/dist/leaflet.css%22/%3E%0A%20%20%20%20%3Clink%20rel%3D%22stylesheet%22%20href%3D%22https%3A//maxcdn.bootstrapcdn.com/bootstrap/3.2.0/css/bootstrap.min.css%22/%3E%0A%20%20%20%20%3Clink%20rel%3D%22stylesheet%22%20href%3D%22https%3A//maxcdn.bootstrapcdn.com/bootstrap/3.2.0/css/bootstrap-theme.min.css%22/%3E%0A%20%20%20%20%3Clink%20rel%3D%22stylesheet%22%20href%3D%22https%3A//maxcdn.bootstrapcdn.com/font-awesome/4.6.3/css/font-awesome.min.css%22/%3E%0A%20%20%20%20%3Clink%20rel%3D%22stylesheet%22%20href%3D%22https%3A//cdnjs.cloudflare.com/ajax/libs/Leaflet.awesome-markers/2.0.2/leaflet.awesome-markers.css%22/%3E%0A%20%20%20%20%3Clink%20rel%3D%22stylesheet%22%20href%3D%22https%3A//rawcdn.githack.com/python-visualization/folium/master/folium/templates/leaflet.awesome.rotate.css%22/%3E%0A%20%20%20%20%3Cstyle%3Ehtml%2C%20body%20%7Bwidth%3A%20100%25%3Bheight%3A%20100%25%3Bmargin%3A%200%3Bpadding%3A%200%3B%7D%3C/style%3E%0A%20%20%20%20%3Cstyle%3E%23map%20%7Bposition%3Aabsolute%3Btop%3A0%3Bbottom%3A0%3Bright%3A0%3Bleft%3A0%3B%7D%3C/style%3E%0A%20%20%20%20%0A%20%20%20%20%3Cmeta%20name%3D%22viewport%22%20content%3D%22width%3Ddevice-width%2C%0A%20%20%20%20%20%20%20%20initial-scale%3D1.0%2C%20maximum-scale%3D1.0%2C%20user-scalable%3Dno%22%20/%3E%0A%20%20%20%20%3Cstyle%3E%23map_9151322adaa04cc98aec1e4115a25ba3%20%7B%0A%20%20%20%20%20%20%20%20position%3A%20relative%3B%0A%20%20%20%20%20%20%20%20width%3A%2040.0%25%3B%0A%20%20%20%20%20%20%20%20height%3A%2040.0%25%3B%0A%20%20%20%20%20%20%20%20left%3A%200.0%25%3B%0A%20%20%20%20%20%20%20%20top%3A%200.0%25%3B%0A%20%20%20%20%20%20%20%20%7D%0A%20%20%20%20%3C/style%3E%0A%20%20%20%20%3Cscript%20src%3D%22https%3A//cdnjs.cloudflare.com/ajax/libs/leaflet-minimap/3.6.1/Control.MiniMap.js%22%3E%3C/script%3E%0A%20%20%20%20%3Clink%20rel%3D%22stylesheet%22%20href%3D%22https%3A//cdnjs.cloudflare.com/ajax/libs/leaflet-minimap/3.6.1/Control.MiniMap.css%22/%3E%0A%3C/head%3E%0A%3Cbody%3E%20%20%20%20%0A%20%20%20%20%0A%20%20%20%20%3Cdiv%20class%3D%22folium-map%22%20id%3D%22map_9151322adaa04cc98aec1e4115a25ba3%22%20%3E%3C/div%3E%0A%3C/body%3E%0A%3Cscript%3E%20%20%20%20%0A%20%20%20%20%0A%20%20%20%20%0A%20%20%20%20%20%20%20%20var%20bounds%20%3D%20null%3B%0A%20%20%20%20%0A%0A%20%20%20%20var%20map_9151322adaa04cc98aec1e4115a25ba3%20%3D%20L.map%28%0A%20%20%20%20%20%20%20%20%27map_9151322adaa04cc98aec1e4115a25ba3%27%2C%20%7B%0A%20%20%20%20%20%20%20%20center%3A%20%5B36.4875%2C%20127.28167%5D%2C%0A%20%20%20%20%20%20%20%20zoom%3A%2015%2C%0A%20%20%20%20%20%20%20%20maxBounds%3A%20bounds%2C%0A%20%20%20%20%20%20%20%20layers%3A%20%5B%5D%2C%0A%20%20%20%20%20%20%20%20worldCopyJump%3A%20false%2C%0A%20%20%20%20%20%20%20%20crs%3A%20L.CRS.EPSG3857%2C%0A%20%20%20%20%20%20%20%20zoomControl%3A%20true%2C%0A%20%20%20%20%20%20%20%20%7D%29%3B%0A%0A%0A%20%20%20%20%0A%20%20%20%20var%20tile_layer_5b97318a2c844778af128c3b8eb554dc%20%3D%20L.tileLayer%28%0A%20%20%20%20%20%20%20%20%27https%3A//%7Bs%7D.tile.openstreetmap.org/%7Bz%7D/%7Bx%7D/%7By%7D.png%27%2C%0A%20%20%20%20%20%20%20%20%7B%0A%20%20%20%20%20%20%20%20%22attribution%22%3A%20null%2C%0A%20%20%20%20%20%20%20%20%22detectRetina%22%3A%20false%2C%0A%20%20%20%20%20%20%20%20%22maxNativeZoom%22%3A%2018%2C%0A%20%20%20%20%20%20%20%20%22maxZoom%22%3A%2018%2C%0A%20%20%20%20%20%20%20%20%22minZoom%22%3A%200%2C%0A%20%20%20%20%20%20%20%20%22noWrap%22%3A%20false%2C%0A%20%20%20%20%20%20%20%20%22opacity%22%3A%201%2C%0A%20%20%20%20%20%20%20%20%22subdomains%22%3A%20%22abc%22%2C%0A%20%20%20%20%20%20%20%20%22tms%22%3A%20false%0A%7D%29.addTo%28map_9151322adaa04cc98aec1e4115a25ba3%29%3B%0A%20%20%20%20%0A%0A%20%20%20%20%20%20%20%20var%20tile_layer_379febd8cdcc4630bed228b84dcf6855%20%3D%20L.tileLayer%28%0A%20%20%20%20%20%20%20%20%27https%3A//%7Bs%7D.tile.openstreetmap.org/%7Bz%7D/%7Bx%7D/%7By%7D.png%27%2C%0A%20%20%20%20%20%20%20%20%7B%0A%20%20%20%20%20%20%20%20%22attribution%22%3A%20null%2C%0A%20%20%20%20%20%20%20%20%22detectRetina%22%3A%20false%2C%0A%20%20%20%20%20%20%20%20%22maxNativeZoom%22%3A%2018%2C%0A%20%20%20%20%20%20%20%20%22maxZoom%22%3A%2018%2C%0A%20%20%20%20%20%20%20%20%22minZoom%22%3A%200%2C%0A%20%20%20%20%20%20%20%20%22noWrap%22%3A%20false%2C%0A%20%20%20%20%20%20%20%20%22opacity%22%3A%201%2C%0A%20%20%20%20%20%20%20%20%22subdomains%22%3A%20%22abc%22%2C%0A%20%20%20%20%20%20%20%20%22tms%22%3A%20false%0A%7D%20%29%3B%0A%0A%20%20%20%20%20%20%20%20var%20mini_map_b27f430ca58540e3971bc34b848346b6%20%3D%20new%20L.Control.MiniMap%28%20tile_layer_379febd8cdcc4630bed228b84dcf6855%2C%0A%20%20%20%20%20%20%20%20%20%7B%0A%20%20%22autoToggleDisplay%22%3A%20false%2C%0A%20%20%22centerFixed%22%3A%20false%2C%0A%20%20%22collapsedHeight%22%3A%2025%2C%0A%20%20%22collapsedWidth%22%3A%2025%2C%0A%20%20%22height%22%3A%20150%2C%0A%20%20%22minimized%22%3A%20false%2C%0A%20%20%22position%22%3A%20%22bottomright%22%2C%0A%20%20%22toggleDisplay%22%3A%20false%2C%0A%20%20%22width%22%3A%20150%2C%0A%20%20%22zoomAnimation%22%3A%20false%2C%0A%20%20%22zoomLevelFixed%22%3A%20null%2C%0A%20%20%22zoomLevelOffset%22%3A%20-5%0A%7D%29%3B%0A%20%20%20%20%20%20%20%20map_9151322adaa04cc98aec1e4115a25ba3.addControl%28mini_map_b27f430ca58540e3971bc34b848346b6%29%3B%0A%0A%20%20%20%20%20%20%20%20%0A%20%20%20%20%0A%20%20%20%20%20%20%20%20var%20marker_182443dedd434d718f6f5b1f85024bc9%20%3D%20L.marker%28%0A%20%20%20%20%20%20%20%20%20%20%20%20%5B127.29427730683514%2C%2036.47687410285774%5D%2C%0A%20%20%20%20%20%20%20%20%20%20%20%20%7B%0A%20%20%20%20%20%20%20%20%20%20%20%20%20%20%20%20icon%3A%20new%20L.Icon.Default%28%29%2C%0A%20%20%20%20%20%20%20%20%20%20%20%20%20%20%20%20%7D%0A%20%20%20%20%20%20%20%20%20%20%20%20%29.addTo%28map_9151322adaa04cc98aec1e4115a25ba3%29%3B%0A%20%20%20%20%20%20%20%20%0A%20%20%20%20%0A%0A%20%20%20%20%20%20%20%20%20%20%20%20%20%20%20%20var%20icon_526f9fa7272f4ed99e2fec0e40c00539%20%3D%20L.AwesomeMarkers.icon%28%7B%0A%20%20%20%20%20%20%20%20%20%20%20%20%20%20%20%20%20%20%20%20icon%3A%20%27info-sign%27%2C%0A%20%20%20%20%20%20%20%20%20%20%20%20%20%20%20%20%20%20%20%20iconColor%3A%20%27white%27%2C%0A%20%20%20%20%20%20%20%20%20%20%20%20%20%20%20%20%20%20%20%20markerColor%3A%20%27blue%27%2C%0A%20%20%20%20%20%20%20%20%20%20%20%20%20%20%20%20%20%20%20%20prefix%3A%20%27glyphicon%27%2C%0A%20%20%20%20%20%20%20%20%20%20%20%20%20%20%20%20%20%20%20%20extraClasses%3A%20%27fa-rotate-0%27%0A%20%20%20%20%20%20%20%20%20%20%20%20%20%20%20%20%20%20%20%20%7D%29%3B%0A%20%20%20%20%20%20%20%20%20%20%20%20%20%20%20%20marker_182443dedd434d718f6f5b1f85024bc9.setIcon%28icon_526f9fa7272f4ed99e2fec0e40c00539%29%3B%0A%20%20%20%20%20%20%20%20%20%20%20%20%0A%20%20%20%20%0A%20%20%20%20%20%20%20%20%20%20%20%20var%20popup_ec3120995c9c42e18c5ee1051b5a3bdf%20%3D%20L.popup%28%7BmaxWidth%3A%20%27100%25%27%0A%20%20%20%20%20%20%20%20%20%20%20%20%0A%20%20%20%20%20%20%20%20%20%20%20%20%7D%29%3B%0A%0A%20%20%20%20%20%20%20%20%20%20%20%20%0A%20%20%20%20%20%20%20%20%20%20%20%20%20%20%20%20var%20html_e41f53ba01784ce188e9b0e90be9f5c8%20%3D%20%24%28%60%3Cdiv%20id%3D%22html_e41f53ba01784ce188e9b0e90be9f5c8%22%20style%3D%22width%3A%20100.0%25%3B%20height%3A%20100.0%25%3B%22%3E%3Cb%3E%EC%84%B8%EC%A2%85%EC%8B%9C%EC%B2%AD%3C/b%3E%3C/div%3E%60%29%5B0%5D%3B%0A%20%20%20%20%20%20%20%20%20%20%20%20%20%20%20%20popup_ec3120995c9c42e18c5ee1051b5a3bdf.setContent%28html_e41f53ba01784ce188e9b0e90be9f5c8%29%3B%0A%20%20%20%20%20%20%20%20%20%20%20%20%0A%0A%20%20%20%20%20%20%20%20%20%20%20%20marker_182443dedd434d718f6f5b1f85024bc9.bindPopup%28popup_ec3120995c9c42e18c5ee1051b5a3bdf%29%0A%20%20%20%20%20%20%20%20%20%20%20%20%3B%0A%0A%20%20%20%20%20%20%20%20%20%20%20%20%0A%20%20%20%20%20%20%20%20%0A%3C/script%3E onload=\"this.contentDocument.open();this.contentDocument.write(    decodeURIComponent(this.getAttribute('data-html')));this.contentDocument.close();\" allowfullscreen webkitallowfullscreen mozallowfullscreen></iframe></div></div>"
            ],
            "text/plain": [
              "<folium.folium.Map at 0x7fd8c92dc7d0>"
            ]
          },
          "metadata": {},
          "execution_count": 23
        }
      ]
    },
    {
      "cell_type": "code",
      "source": [
        ""
      ],
      "metadata": {
        "id": "3cskArF3ypiO"
      },
      "execution_count": null,
      "outputs": []
    },
    {
      "cell_type": "code",
      "source": [
        ""
      ],
      "metadata": {
        "id": "uHqtTVQz_meS"
      },
      "execution_count": null,
      "outputs": []
    }
  ]
}
